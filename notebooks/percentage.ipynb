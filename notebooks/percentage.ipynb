{
  "nbformat": 4,
  "nbformat_minor": 0,
  "metadata": {
    "colab": {
      "name": "percentage.ipynb",
      "provenance": [],
      "collapsed_sections": []
    },
    "kernelspec": {
      "name": "python3",
      "display_name": "Python 3"
    }
  },
  "cells": [
    {
      "cell_type": "markdown",
      "metadata": {
        "id": "6oc3-fag6DQj",
        "colab_type": "text"
      },
      "source": [
        "# Manual Computation #"
      ]
    },
    {
      "cell_type": "markdown",
      "metadata": {
        "id": "qxnDT667yOao",
        "colab_type": "text"
      },
      "source": [
        "## Prerequisites ##"
      ]
    },
    {
      "cell_type": "code",
      "metadata": {
        "id": "ojlzzi4V4iWj",
        "colab_type": "code",
        "colab": {}
      },
      "source": [
        "!pip install rasterio"
      ],
      "execution_count": 0,
      "outputs": []
    },
    {
      "cell_type": "code",
      "metadata": {
        "id": "1wjgeVtm43c7",
        "colab_type": "code",
        "colab": {}
      },
      "source": [
        "import PIL.Image\n",
        "import rasterio as rio\n",
        "import numpy as np"
      ],
      "execution_count": 0,
      "outputs": []
    },
    {
      "cell_type": "markdown",
      "metadata": {
        "id": "O_wfOzT97xpj",
        "colab_type": "text"
      },
      "source": [
        "## Mount (colab only) ##"
      ]
    },
    {
      "cell_type": "code",
      "metadata": {
        "id": "wR2R_WjZ48Yp",
        "colab_type": "code",
        "colab": {}
      },
      "source": [
        "from google.colab import drive\n",
        "drive.mount('/content/gdrive')"
      ],
      "execution_count": 0,
      "outputs": []
    },
    {
      "cell_type": "markdown",
      "metadata": {
        "id": "_2Y6uKCG2p6H",
        "colab_type": "text"
      },
      "source": [
        "## Load and Display Data ##"
      ]
    },
    {
      "cell_type": "code",
      "metadata": {
        "id": "XTqUYTDF4_qo",
        "colab_type": "code",
        "colab": {}
      },
      "source": [
        "with rio.open('/content/gdrive/My Drive/berlin-imagery.tif', 'r') as ds:\n",
        "  imagery_data = ds.read()"
      ],
      "execution_count": 0,
      "outputs": []
    },
    {
      "cell_type": "code",
      "metadata": {
        "colab_type": "code",
        "id": "2ETSN9vCzIjO",
        "colab": {}
      },
      "source": [
        "with rio.open('/content/gdrive/My Drive/berlin-ndwi.tif', 'r') as ds:\n",
        "  prediction_data = ds.read()"
      ],
      "execution_count": 0,
      "outputs": []
    },
    {
      "cell_type": "code",
      "metadata": {
        "colab_type": "code",
        "id": "oNIrNGINznNB",
        "colab": {}
      },
      "source": [
        "pred_lo = np.min(prediction_data)\n",
        "pred_hi = np.max(prediction_data)\n",
        "prediction_grayscale = (prediction_data - pred_lo) / (pred_hi - pred_lo)\n",
        "prediction_grayscale = (prediction_grayscale * 0xff)[0].astype(np.uint8)"
      ],
      "execution_count": 0,
      "outputs": []
    },
    {
      "cell_type": "code",
      "metadata": {
        "id": "AHMl4Wpl53yC",
        "colab_type": "code",
        "colab": {}
      },
      "source": [
        "PIL.Image.fromarray(prediction_grayscale)"
      ],
      "execution_count": 0,
      "outputs": []
    },
    {
      "cell_type": "code",
      "metadata": {
        "id": "MIdoCeFY9eRx",
        "colab_type": "code",
        "colab": {}
      },
      "source": [
        "μ0, σ0, μ1, σ1 =  -0.3616522253, 0.1555788219, 0.3314088285, 0.1071685851"
      ],
      "execution_count": 0,
      "outputs": []
    },
    {
      "cell_type": "code",
      "metadata": {
        "id": "kh8lpVa-5MEN",
        "colab_type": "code",
        "colab": {}
      },
      "source": [
        "midpoint = (μ0*σ1 + μ1*σ0)/(σ0 + σ1)"
      ],
      "execution_count": 0,
      "outputs": []
    },
    {
      "cell_type": "code",
      "metadata": {
        "id": "RS8vaTGZ5bIK",
        "colab_type": "code",
        "colab": {}
      },
      "source": [
        "prediction_final = ((prediction_data > midpoint) * 0xff)[0].astype(np.uint8)"
      ],
      "execution_count": 0,
      "outputs": []
    },
    {
      "cell_type": "code",
      "metadata": {
        "id": "O3nq1WzM5wJH",
        "colab_type": "code",
        "colab": {}
      },
      "source": [
        "PIL.Image.fromarray(prediction_final)"
      ],
      "execution_count": 0,
      "outputs": []
    },
    {
      "cell_type": "markdown",
      "metadata": {
        "id": "eeyJG_dp6UhH",
        "colab_type": "text"
      },
      "source": [
        "## Compute Percentage ##"
      ]
    },
    {
      "cell_type": "code",
      "metadata": {
        "id": "eok5oZjG6V-i",
        "colab_type": "code",
        "colab": {}
      },
      "source": [
        "imagery_nodata = 0"
      ],
      "execution_count": 0,
      "outputs": []
    },
    {
      "cell_type": "code",
      "metadata": {
        "id": "yenQnpPj6WVH",
        "colab_type": "code",
        "colab": {}
      },
      "source": [
        "valid_mask = (imagery_data[0] != imagery_nodata)"
      ],
      "execution_count": 0,
      "outputs": []
    },
    {
      "cell_type": "code",
      "metadata": {
        "id": "Ni2X7Dg46jCr",
        "colab_type": "code",
        "colab": {}
      },
      "source": [
        "foreground_count = ((prediction_final > 0) * valid_mask).sum()\n",
        "foreground_count"
      ],
      "execution_count": 0,
      "outputs": []
    },
    {
      "cell_type": "code",
      "metadata": {
        "id": "twp-N-x667vo",
        "colab_type": "code",
        "colab": {}
      },
      "source": [
        "background_count = ((prediction_final <= 0) * valid_mask).sum()\n",
        "background_count"
      ],
      "execution_count": 0,
      "outputs": []
    },
    {
      "cell_type": "code",
      "metadata": {
        "id": "PIpcIrns7J0D",
        "colab_type": "code",
        "colab": {}
      },
      "source": [
        "float(foreground_count) / (background_count + foreground_count)"
      ],
      "execution_count": 0,
      "outputs": []
    },
    {
      "cell_type": "markdown",
      "metadata": {
        "id": "eLgtyTEz7Uto",
        "colab_type": "text"
      },
      "source": [
        "# Batch Computation #"
      ]
    },
    {
      "cell_type": "markdown",
      "metadata": {
        "id": "yQerUlOg8W2V",
        "colab_type": "text"
      },
      "source": [
        "### Step 1 ###\n",
        "\n",
        "Clone the [`geotrellis/deeplab-nlcd`](https://github.com/geotrellis/deeplab-nlcd) repository to a local directory.\n",
        "\n",
        "Type\n",
        "```\n",
        "git clone git@github.com:geotrellis/deeplab-nlcd.git\n",
        "```\n",
        "or similar."
      ]
    },
    {
      "cell_type": "markdown",
      "metadata": {
        "id": "bo5koQYH8ZXU",
        "colab_type": "text"
      },
      "source": [
        "### Step 2 ###\n",
        "\n",
        "Enter the root of the repository directory.\n",
        "\n",
        "Type\n",
        "```\n",
        "cd deeplab-nlcd\n",
        "```\n",
        "or similar."
      ]
    },
    {
      "cell_type": "markdown",
      "metadata": {
        "id": "GkugWp1T8dG_",
        "colab_type": "text"
      },
      "source": [
        "### Step 3 ###\n",
        "\n",
        "Start a docker container with the needed dependencies.\n",
        "\n",
        "Type\n",
        "```\n",
        "docker run -it --rm -w /workdir -v $(pwd):/workdir -v $HOME/Desktop:/desktop --runtime=nvidia jamesmcclain/aws-batch-ml:9 bash\n",
        "```\n",
        "or similar.  This sample command line will mount the local directory `~/Desktop/` which is assumed to contain the imagery on which we wish to work.  We will see later that it is also possible to use imagery on S3."
      ]
    },
    {
      "cell_type": "markdown",
      "metadata": {
        "id": "MTzViKXU8wPF",
        "colab_type": "text"
      },
      "source": [
        "### Step 4 ###\n",
        "\n",
        "Now calculate the spectral discrimination index using imagery, predictions, and \"ground truth\".\n",
        "\n",
        "Type\n",
        "```\n",
        "python /workdir/python/local/percentage.py --prediction /desktop/predictions/image* --prediction-nd 255 --imagery /desktop/imagery/image* --imagery-nd 0 --data \"-0.3616522253 0.1555788219 0.3314088285 0.1071685851\"\n",
        "```\n",
        "or similar.\n",
        "\n",
        "Note that `~/Desktop/imagery/` is assumed to contain the imagery (files with names matching the pattern `image*.tif`) and the directory `~/Desktop/predictions/` is assumed to contain the predictions (files with names matching the pattern `image*.tif`).\n",
        "\n",
        "The four numbers passed in a single string argument to `--data` are μ0, σ0, μ1, and σ1, respectively."
      ]
    },
    {
      "cell_type": "code",
      "metadata": {
        "id": "qn4o6BcR9gZq",
        "colab_type": "code",
        "colab": {}
      },
      "source": [
        ""
      ],
      "execution_count": 0,
      "outputs": []
    }
  ]
}