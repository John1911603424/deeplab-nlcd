{
  "nbformat": 4,
  "nbformat_minor": 0,
  "metadata": {
    "colab": {
      "name": "sdi.ipynb",
      "provenance": [],
      "collapsed_sections": [
        "KxO3-qj5h1gl"
      ]
    },
    "kernelspec": {
      "name": "python3",
      "display_name": "Python 3"
    }
  },
  "cells": [
    {
      "cell_type": "markdown",
      "metadata": {
        "id": "ChO5hfYQh0_K",
        "colab_type": "text"
      },
      "source": [
        "# Manual Measurement #"
      ]
    },
    {
      "cell_type": "markdown",
      "metadata": {
        "id": "h0JKN1Jxi0SB",
        "colab_type": "text"
      },
      "source": [
        "## Prerequisites ##"
      ]
    },
    {
      "cell_type": "code",
      "metadata": {
        "id": "eLg8kzvtiCao",
        "colab_type": "code",
        "colab": {}
      },
      "source": [
        "!pip install rasterio"
      ],
      "execution_count": 0,
      "outputs": []
    },
    {
      "cell_type": "code",
      "metadata": {
        "id": "KzI3UvifiVxw",
        "colab_type": "code",
        "colab": {}
      },
      "source": [
        "import copy\n",
        "\n",
        "import PIL.Image\n",
        "\n",
        "import numpy as np\n",
        "import rasterio as rio"
      ],
      "execution_count": 0,
      "outputs": []
    },
    {
      "cell_type": "markdown",
      "metadata": {
        "id": "fCNmekZJjMCZ",
        "colab_type": "text"
      },
      "source": [
        "## Mount (colab only) ##"
      ]
    },
    {
      "cell_type": "code",
      "metadata": {
        "id": "HNFDRM_TjP3v",
        "colab_type": "code",
        "colab": {}
      },
      "source": [
        "from google.colab import drive\n",
        "drive.mount('/content/gdrive')"
      ],
      "execution_count": 0,
      "outputs": []
    },
    {
      "cell_type": "markdown",
      "metadata": {
        "id": "AtskSdjpjauj",
        "colab_type": "text"
      },
      "source": [
        "## Load Imagery, Predictions, and \"Ground Truth\" ##"
      ]
    },
    {
      "cell_type": "code",
      "metadata": {
        "id": "YHbb2oXHj-_J",
        "colab_type": "code",
        "colab": {}
      },
      "source": [
        "imagery_path = '/content/gdrive/My Drive/data/imagery.tif'\n",
        "imagery_nd = 0 # nodata value of 0\n",
        "prediction_path = '/content/gdrive/My Drive/data/prediction.tif'\n",
        "truth_path = '/content/gdrive/My Drive/data/truth.tif'\n",
        "truth_nd = 0 # nodata value 0\n",
        "truth_gte = 6 # \"yes\" values >= 6\n",
        "\n",
        "with rio.open(imagery_path, 'r') as ds:\n",
        "    imagery_profile = copy.deepcopy(ds.profile)\n",
        "    imagery_data = ds.read()\n",
        "\n",
        "with rio.open(prediction_path, 'r') as ds:\n",
        "    prediction_profile = copy.deepcopy(ds.profile)\n",
        "    prediction_data = ds.read()\n",
        "\n",
        "with rio.open(truth_path, 'r') as ds:\n",
        "    truth_profile = copy.deepcopy(ds.profile)\n",
        "    truth_data = ds.read()"
      ],
      "execution_count": 0,
      "outputs": []
    },
    {
      "cell_type": "code",
      "metadata": {
        "id": "AORrJRGwkngT",
        "colab_type": "code",
        "colab": {}
      },
      "source": [
        "assert(imagery_profile.get('width') == prediction_profile.get('width'))\n",
        "assert(prediction_profile.get('width') == truth_profile.get('width'))\n",
        "assert(imagery_profile.get('height') == prediction_profile.get('height'))\n",
        "assert(prediction_profile.get('height') == truth_profile.get('height'))\n",
        "width = imagery_profile.get('width')\n",
        "height = imagery_profile.get('height')"
      ],
      "execution_count": 0,
      "outputs": []
    },
    {
      "cell_type": "markdown",
      "metadata": {
        "id": "GLNikSxjlqd2",
        "colab_type": "text"
      },
      "source": [
        "## Compute Spectral Discrimination Index ##"
      ]
    },
    {
      "cell_type": "code",
      "metadata": {
        "id": "qAX_OY-OluJ-",
        "colab_type": "code",
        "colab": {}
      },
      "source": [
        "if imagery_nd is not None:\n",
        "    imagery_mask = (imagery_data[0] != imagery_nd).astype(np.uint8)\n",
        "else:\n",
        "    imagery_mask = np.ones((height, width), dtype=np.uint8)\n",
        "if truth_nd is not None:\n",
        "    truth_mask = (truth_data[0] != truth_nd).astype(np.uint8)\n",
        "else:\n",
        "    truth_mask = np.ones((height, width), dtype=np.uint8)\n",
        "\n",
        "valid_mask = imagery_mask * truth_mask\n",
        "mask = truth_data >= truth_gte\n"
      ],
      "execution_count": 0,
      "outputs": []
    },
    {
      "cell_type": "code",
      "metadata": {
        "id": "dSDs_Rixl_7u",
        "colab_type": "code",
        "colab": {}
      },
      "source": [
        "class_no = np.extract((mask != 1) * valid_mask, prediction_data)\n",
        "class_yes = np.extract(mask * valid_mask, prediction_data)"
      ],
      "execution_count": 0,
      "outputs": []
    },
    {
      "cell_type": "code",
      "metadata": {
        "id": "SclrkxR7mLvU",
        "colab_type": "code",
        "colab": {}
      },
      "source": [
        "mu_no = np.mean(class_no)\n",
        "sigma_no = np.std(class_no)\n",
        "mu_yes = np.mean(class_yes)\n",
        "sigma_yes = np.std(class_yes)"
      ],
      "execution_count": 0,
      "outputs": []
    },
    {
      "cell_type": "code",
      "metadata": {
        "id": "FgjC3lEvmcRo",
        "colab_type": "code",
        "colab": {}
      },
      "source": [
        "print('sdi = {}'.format(np.abs(mu_no - mu_yes)/(sigma_no + sigma_yes)))"
      ],
      "execution_count": 0,
      "outputs": []
    },
    {
      "cell_type": "markdown",
      "metadata": {
        "id": "SXYRrU_5mqNV",
        "colab_type": "text"
      },
      "source": [
        "- A score of more than 3 is \"excellent\"\n",
        "- A score of between 3 and 1 is \"good\"\n",
        "- A score of less than 1 is \"not so good\""
      ]
    },
    {
      "cell_type": "markdown",
      "metadata": {
        "id": "jephskqqqMdT",
        "colab_type": "text"
      },
      "source": [
        "## Visualize ##"
      ]
    },
    {
      "cell_type": "code",
      "metadata": {
        "id": "YpVfnWZfqPCv",
        "colab_type": "code",
        "colab": {}
      },
      "source": [
        "predict_min = np.min(prediction_data)\n",
        "predict_max = np.max(prediction_data)\n",
        "pred_uint8 = (np.clip((prediction_data - predict_min)/(predict_max - predict_min), 0.0, 1.0) * 255).astype(np.uint8)[0]"
      ],
      "execution_count": 0,
      "outputs": []
    },
    {
      "cell_type": "code",
      "metadata": {
        "id": "2TMWNGCAM8qW",
        "colab_type": "code",
        "colab": {}
      },
      "source": [
        "PIL.Image.fromarray(pred_uint8)"
      ],
      "execution_count": 0,
      "outputs": []
    },
    {
      "cell_type": "code",
      "metadata": {
        "id": "fUUecZWMq23v",
        "colab_type": "code",
        "colab": {}
      },
      "source": [
        "nos = np.abs(prediction_data - mu_no)\n",
        "nos_min = np.min(nos)\n",
        "nos_max = np.max(nos)\n",
        "nos_uint8 = (np.clip((nos - nos_min)/(nos_max - nos_min), 0.0, 1.0) * 255).astype(np.uint8)[0]\n",
        "nos_uint8 = 255 - nos_uint8"
      ],
      "execution_count": 0,
      "outputs": []
    },
    {
      "cell_type": "code",
      "metadata": {
        "id": "3kGl_27Zrm9J",
        "colab_type": "code",
        "colab": {}
      },
      "source": [
        "PIL.Image.fromarray(nos_uint8)"
      ],
      "execution_count": 0,
      "outputs": []
    },
    {
      "cell_type": "code",
      "metadata": {
        "id": "fDlRC8krr0zV",
        "colab_type": "code",
        "colab": {}
      },
      "source": [
        "yeses = np.abs(prediction_data - mu_yes)\n",
        "yeses_min = np.min(yeses)\n",
        "yeses_max = np.max(yeses)\n",
        "yeses_uint8 = (np.clip((yeses - yeses_min)/(yeses_max - yeses_min), 0.0, 1.0) * 255).astype(np.uint8)[0]\n",
        "yeses_uint8 = 255 - yeses_uint8"
      ],
      "execution_count": 0,
      "outputs": []
    },
    {
      "cell_type": "code",
      "metadata": {
        "id": "qJR9lkzKsDl9",
        "colab_type": "code",
        "colab": {}
      },
      "source": [
        "PIL.Image.fromarray(yeses_uint8)"
      ],
      "execution_count": 0,
      "outputs": []
    },
    {
      "cell_type": "code",
      "metadata": {
        "id": "Zlzty_Vts43M",
        "colab_type": "code",
        "colab": {}
      },
      "source": [
        "PIL.Image.fromarray(np.stack([nos_uint8, pred_uint8, yeses_uint8], axis=2))"
      ],
      "execution_count": 0,
      "outputs": []
    },
    {
      "cell_type": "markdown",
      "metadata": {
        "id": "KxO3-qj5h1gl",
        "colab_type": "text"
      },
      "source": [
        "# Batch Measurement #"
      ]
    },
    {
      "cell_type": "markdown",
      "metadata": {
        "id": "an3kqJRrRHoF",
        "colab_type": "text"
      },
      "source": [
        "### Step 1 ###\n",
        "\n",
        "Clone the [`geotrellis/deeplab-nlcd`](https://github.com/geotrellis/deeplab-nlcd) repository to a local directory.\n",
        "\n",
        "Type\n",
        "```\n",
        "git clone git@github.com:geotrellis/deeplab-nlcd.git\n",
        "```\n",
        "or similar."
      ]
    },
    {
      "cell_type": "markdown",
      "metadata": {
        "id": "5jU1JL0rRdkl",
        "colab_type": "text"
      },
      "source": [
        "### Step 2 ###\n",
        "\n",
        "Enter the root of the repository directory.\n",
        "\n",
        "Type\n",
        "```\n",
        "cd deeplab-nlcd\n",
        "```\n",
        "or similar."
      ]
    },
    {
      "cell_type": "markdown",
      "metadata": {
        "id": "g_Xl4F6yRwoN",
        "colab_type": "text"
      },
      "source": [
        "### Step 3 ###\n",
        "\n",
        "Start a docker container with the needed dependencies.\n",
        "\n",
        "Type\n",
        "```\n",
        "docker run -it --rm -w /workdir -v $(pwd):/workdir -v $HOME/Desktop:/desktop --runtime=nvidia jamesmcclain/aws-batch-ml:9 bash\n",
        "```\n",
        "or similar.  This sample command line will mount the local directory `~/Desktop/` which is assumed to contain the imagery on which we wish to work.  We will see later that it is also possible to use imagery on S3."
      ]
    },
    {
      "cell_type": "markdown",
      "metadata": {
        "id": "u0zS3rwLTYDT",
        "colab_type": "text"
      },
      "source": [
        "### Step 4 ###\n",
        "\n",
        "Now calculate the spectral discrimination index using imagery, predictions, and \"ground truth\".\n",
        "\n",
        "Type\n",
        "```\n",
        "python3 /workdir/python/local/sdi.py --imagery /desktop/imagery/image*.tif --imagery-nd 0 --predictions  /desktop/predictions/cheaplab/image*tif --truth //desktop/labels/image*.tif --truth-gte 6 --truth-nd 0\n",
        "```\n",
        "or similar.\n",
        "\n",
        "Note that `~/Desktop/imagery/` is assumed to contain the imagery (files with names matching the pattern `image*.tif`), the directory `~/Desktop/predictions/cheaplab/` is assumed to contain the predictions (files with names matching the pattern `image*.tif`), and the directory `~/Desktop/labels/` is assumed to contain the \"ground truth\" labels (files with names matching the pattern `image*.tif`).\n"
      ]
    },
    {
      "cell_type": "code",
      "metadata": {
        "id": "lZMo6Aq9h8q-",
        "colab_type": "code",
        "colab": {}
      },
      "source": [
        ""
      ],
      "execution_count": 0,
      "outputs": []
    }
  ]
}